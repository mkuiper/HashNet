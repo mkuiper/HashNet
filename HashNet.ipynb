{
 "cells": [
  {
   "cell_type": "markdown",
   "metadata": {},
   "source": [
    "##  HashNet\n",
    "\n",
    "An experimental foray into neural networks. \n",
    "\n",
    "Disclaimer: I have little idea how neural networks or deep learning actually works.\n",
    "This is a simple exploration to build a neural net along some crazy ideas I had. \n"
   ]
  },
  {
   "cell_type": "markdown",
   "metadata": {},
   "source": [
    "The broad idea: \n",
    "\n",
    "The input layer, (say a simple black and white image) can be reduced to a single input 'neuron' by reducing two pixels from the original image to one neuron, stored in a hash dictionary, then reduce 2 of those neurons down to one and so on. \n"
   ]
  },
  {
   "cell_type": "markdown",
   "metadata": {},
   "source": [
    "Since this proceedure relies on adding new neurons as more data becomes available, it is scalable on the fly. "
   ]
  },
  {
   "cell_type": "code",
   "execution_count": 10,
   "metadata": {
    "collapsed": false
   },
   "outputs": [],
   "source": [
    "%matplotlib inline\n",
    "\n",
    "from skimage import data\n",
    "import matplotlib.pyplot as plt\n"
   ]
  },
  {
   "cell_type": "code",
   "execution_count": 53,
   "metadata": {
    "collapsed": false
   },
   "outputs": [],
   "source": [
    "# some test input:\n",
    "\n",
    "checkboard = [[0,0,1,1,0,0,1,1,0,0,1,1],\n",
    "              [0,0,1,1,0,0,1,1,0,0,1,1],\n",
    "              [1,1,0,0,1,1,0,0,1,1,0,0],\n",
    "              [1,1,0,0,1,1,0,0,1,1,0,0],\n",
    "              [0,0,1,1,0,0,1,1,0,0,1,1],\n",
    "              [0,0,1,1,0,0,1,1,0,0,1,1],\n",
    "              [1,1,0,0,1,1,0,0,1,1,0,0],\n",
    "              [1,1,0,0,1,1,0,0,1,1,0,0],\n",
    "              [0,0,1,1,0,0,1,1,0,0,1,1],\n",
    "              [0,0,1,1,0,0,1,1,0,0,1,1],\n",
    "              [1,1,0,0,1,1,0,0,1,1,0,0],\n",
    "              [1,1,0,0,1,1,0,0,1,1,0,0]]\n",
    "\n",
    "smile      = [[0,0,0,0,0,0,0,0,0,0,0,0],\n",
    "              [0,0,0,0,0,0,0,0,0,0,0,0],\n",
    "              [0,0,0,0,0,0,0,0,0,0,0,0],\n",
    "              [0,0,0,1,1,0,0,1,1,0,0,0],\n",
    "              [0,0,0,1,1,0,0,1,1,0,0,0],\n",
    "              [0,0,0,0,0,0,0,0,0,0,0,0],\n",
    "              [0,0,0,0,0,0,0,0,0,0,0,0],\n",
    "              [0,0,1,1,0,0,0,0,1,1,0,0],\n",
    "              [0,0,0,1,1,0,0,1,1,0,0,0],\n",
    "              [0,0,0,0,1,1,1,1,0,0,0,0],\n",
    "              [0,0,0,0,0,0,0,0,0,0,0,0],\n",
    "              [0,0,0,0,0,0,0,0,0,0,0,0]]\n",
    "\n"
   ]
  },
  {
   "cell_type": "code",
   "execution_count": 88,
   "metadata": {
    "collapsed": false
   },
   "outputs": [
    {
     "data": {
      "text/plain": [
       "<matplotlib.image.AxesImage at 0x7f92870e0208>"
      ]
     },
     "execution_count": 88,
     "metadata": {},
     "output_type": "execute_result"
    },
    {
     "data": {
      "image/png": "[encoded data removed]",
      "text/plain": [
       "<matplotlib.figure.Figure at 0x7f9287566748>"
      ]
     },
     "metadata": {},
     "output_type": "display_data"
    }
   ],
   "source": [
    "#checkboard.shape\n",
    "testdata = smile\n",
    "plt.imshow(testdata,cmap=\"Blues\",interpolation='nearest')\n"
   ]
  },
  {
   "cell_type": "code",
   "execution_count": 89,
   "metadata": {
    "collapsed": false
   },
   "outputs": [],
   "source": [
    "def countpixels(image):\n",
    "     '''quick function to count pixels in an image'''\n",
    "     m,n = 0,0\n",
    "     length = len(image)  # assumes image is square\n",
    "     for i in range(0,length):\n",
    "         m = m + testdata[i].count(1)\n",
    "         n = n + testdata[i].count(0)\n",
    "     total= length*length\n",
    "     return (m,n, total)"
   ]
  },
  {
   "cell_type": "code",
   "execution_count": 90,
   "metadata": {
    "collapsed": false
   },
   "outputs": [
    {
     "name": "stdout",
     "output_type": "stream",
     "text": [
      "total pixels: 144  black: 20  white: 124\n"
     ]
    }
   ],
   "source": [
    "# a quick count of pixels: \n",
    "m,n,t = countpixels(testdata)\n",
    "print (\"total pixels: {}  black: {}  white: {}\".format(t,m,n))"
   ]
  },
  {
   "cell_type": "code",
   "execution_count": 113,
   "metadata": {
    "collapsed": false
   },
   "outputs": [],
   "source": [
    "def flatten(image):\n",
    "    '''simple function to convert 2D image list to linear list'''\n",
    "    c = [item for sublist in image for item in sublist]\n",
    "    return c"
   ]
  },
  {
   "cell_type": "code",
   "execution_count": 131,
   "metadata": {
    "collapsed": false
   },
   "outputs": [],
   "source": [
    "def add2hash(i,j,d):\n",
    "    '''function to add coordinates (i,j) to dictionary'''\n",
    "    key = str(i)+\":\"+str(j)\n",
    "    l = len(d)\n",
    "    d[key]= l+1\n",
    "    print(key,len(d))\n",
    "    return d"
   ]
  },
  {
   "cell_type": "code",
   "execution_count": 132,
   "metadata": {
    "collapsed": false
   },
   "outputs": [
    {
     "name": "stdout",
     "output_type": "stream",
     "text": [
      "[0, 0, 0, 0, 0, 0, 0, 0, 0, 0, 0, 0, 0, 0, 0, 0, 0, 0, 0, 0, 0, 0, 0, 0, 0, 0, 0, 0, 0, 0, 0, 0, 0, 0, 0, 0, 0, 0, 0, 1, 1, 0, 0, 1, 1, 0, 0, 0, 0, 0, 0, 1, 1, 0, 0, 1, 1, 0, 0, 0, 0, 0, 0, 0, 0, 0, 0, 0, 0, 0, 0, 0, 0, 0, 0, 0, 0, 0, 0, 0, 0, 0, 0, 0, 0, 0, 1, 1, 0, 0, 0, 0, 1, 1, 0, 0, 0, 0, 0, 1, 1, 0, 0, 1, 1, 0, 0, 0, 0, 0, 0, 0, 1, 1, 1, 1, 0, 0, 0, 0, 0, 0, 0, 0, 0, 0, 0, 0, 0, 0, 0, 0, 0, 0, 0, 0, 0, 0, 0, 0, 0, 0, 0, 0]\n"
     ]
    },
    {
     "data": {
      "text/plain": [
       "(None, 144)"
      ]
     },
     "execution_count": 132,
     "metadata": {},
     "output_type": "execute_result"
    }
   ],
   "source": [
    "# Need to connect every 2 black pixels to a neuron \n",
    "# Convert image into a long list: \n",
    "flatimage = flatten(testdata)\n",
    "print (flatimage), len(flatimage)"
   ]
  },
  {
   "cell_type": "code",
   "execution_count": 133,
   "metadata": {
    "collapsed": false
   },
   "outputs": [
    {
     "name": "stdout",
     "output_type": "stream",
     "text": [
      "39:40 1\n",
      "43:44 2\n",
      "51:52 3\n",
      "55:56 4\n",
      "86:87 5\n",
      "92:93 6\n",
      "99:100 7\n",
      "103:104 8\n",
      "112:113 9\n",
      "114:115 10\n",
      "{'55:56': 4, '103:104': 8, '112:113': 9, '43:44': 2, '86:87': 5, '39:40': 1, '99:100': 7, '51:52': 3, '114:115': 10, '92:93': 6}\n"
     ]
    }
   ],
   "source": [
    "# find pairs to combine to add to dictionary level 0 \n",
    "d0 ={}   # initialize a dictionary (level 0)\n",
    "\n",
    "l = len(flatimage)\n",
    "level = 0\n",
    "i = 0 \n",
    "while (i < l-1):\n",
    "    i+=1 \n",
    "    j =0\n",
    "    if flatimage[i] == 1:\n",
    "        j+=1\n",
    "        if flatimage[i+j] == 1:\n",
    "            add2hash(i,i+j,d0)\n",
    "        i+=1\n",
    "print (d0)"
   ]
  },
  {
   "cell_type": "code",
   "execution_count": null,
   "metadata": {
    "collapsed": true
   },
   "outputs": [],
   "source": []
  }
 ],
 "metadata": {
  "anaconda-cloud": {},
  "kernelspec": {
   "display_name": "Python [py35]",
   "language": "python",
   "name": "Python [py35]"
  },
  "language_info": {
   "codemirror_mode": {
    "name": "ipython",
    "version": 3
   },
   "file_extension": ".py",
   "mimetype": "text/x-python",
   "name": "python",
   "nbconvert_exporter": "python",
   "pygments_lexer": "ipython3",
   "version": "3.5.2"
  }
 },
 "nbformat": 4,
 "nbformat_minor": 0
}
